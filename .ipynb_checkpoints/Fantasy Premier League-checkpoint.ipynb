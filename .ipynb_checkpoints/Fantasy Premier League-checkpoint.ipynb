{
 "cells": [
  {
   "cell_type": "code",
   "execution_count": 1,
   "metadata": {
    "collapsed": true
   },
   "outputs": [],
   "source": [
    "import requests\n",
    "import pandas as pd\n",
    "import random\n",
    "from tqdm import tqdm\n",
    "import requests\n",
    "from bs4 import BeautifulSoup\n",
    "import re"
   ]
  },
  {
   "cell_type": "code",
   "execution_count": 2,
   "metadata": {
    "collapsed": true
   },
   "outputs": [],
   "source": [
    "MAIN_API = 'https://fantasy.premierleague.com/drf/bootstrap-static'\n",
    "TEAMS_API = 'https://fantasy.premierleague.com/drf/teams'\n",
    "TYPES_API = 'https://fantasy.premierleague.com/drf/element-types/'\n",
    "PLAYER_API = 'https://fantasy.premierleague.com/drf/element-summary/'\n",
    "MY_TEAM_API = 'https://fantasy.premierleague.com/drf/my-team/2083687'\n",
    "MY_TRANSFERS_API = 'https://fantasy.premierleague.com/drf/transfers'\n",
    "MY_LEAGUES = 'https://fantasy.premierleague.com/drf/leagues-entered/2083687'\n",
    "MY_LEAGUE_STANDING = 'https://fantasy.premierleague.com/drf/leagues-classic/'\n",
    "ENTRIES = 'https://fantasy.premierleague.com/drf/entries'\n",
    "EVENTS = 'https://fantasy.premierleague.com/drf/events'"
   ]
  },
  {
   "cell_type": "code",
   "execution_count": 3,
   "metadata": {
    "collapsed": true
   },
   "outputs": [],
   "source": [
    "def get_df(api, **kwargs):\n",
    "    data = requests.get(api).json()\n",
    "    #print(data.keys())\n",
    "    for key, value in kwargs.items():\n",
    "        if key =='arg':\n",
    "            data = data[value]\n",
    "    return pd.DataFrame.from_dict(data, orient = 'columns')"
   ]
  },
  {
   "cell_type": "code",
   "execution_count": 4,
   "metadata": {
    "collapsed": true
   },
   "outputs": [],
   "source": [
    "def login(username, password, api):\n",
    "    # Fill in your details here to be posted to the login form.\n",
    "    payload = {\n",
    "        'login': username,\n",
    "        'password': password,\n",
    "        'app' :'plfpl-web',\n",
    "        'redirect_uri': 'https://fantasy.premierleague.com/a/login'\n",
    "    }\n",
    "\n",
    "    # Use 'with' to ensure the session context is closed after use.\n",
    "    with requests.Session() as s:\n",
    "\n",
    "        s.get('https://fantasy.premierleague.com')\n",
    "        csrftoken = s.cookies[\"csrftoken\"]\n",
    "        payload['csrfmiddlewaretoken'] = csrftoken\n",
    "        p = s.post('https://users.premierleague.com/accounts/login/', data=payload)\n",
    "        #print(p.text)\n",
    "\n",
    "        #print(p.text)\n",
    "        # An authorised request.\n",
    "        r = s.get(api)\n",
    "        \n",
    "    return r.json()"
   ]
  },
  {
   "cell_type": "code",
   "execution_count": 5,
   "metadata": {
    "collapsed": true
   },
   "outputs": [],
   "source": [
    "def get_team_info(data, team, **kwargs):\n",
    "    teams = get_df(TEAMS_API)\n",
    "    teams = teams[['id', 'name']]\n",
    "    team_names = teams.set_index('id').to_dict()['name']\n",
    "    types = get_df(TYPES_API)\n",
    "    types = types[['id', 'singular_name_short']]\n",
    "    types = types.set_index('id').to_dict()['singular_name_short']\n",
    "    n_df = df.replace({'team': team_names, 'element_type': types})\n",
    "    return n_df[n_df['team'] == team]"
   ]
  },
  {
   "cell_type": "code",
   "execution_count": 6,
   "metadata": {
    "collapsed": true
   },
   "outputs": [],
   "source": [
    " def get_player_info(df, name, tag):\n",
    "    player_ids = df[['id', 'web_name']]\n",
    "    i = player_ids[player_ids['web_name'] == name]['id'].values[0]\n",
    "    api = PLAYER_API + str(i)\n",
    "    x = get_df(api, arg = tag)\n",
    "    return x"
   ]
  },
  {
   "cell_type": "markdown",
   "metadata": {
    "heading_collapsed": true
   },
   "source": [
    "## Main API"
   ]
  },
  {
   "cell_type": "code",
   "execution_count": 8,
   "metadata": {
    "hidden": true
   },
   "outputs": [
    {
     "data": {
      "text/html": [
       "<div>\n",
       "<style scoped>\n",
       "    .dataframe tbody tr th:only-of-type {\n",
       "        vertical-align: middle;\n",
       "    }\n",
       "\n",
       "    .dataframe tbody tr th {\n",
       "        vertical-align: top;\n",
       "    }\n",
       "\n",
       "    .dataframe thead th {\n",
       "        text-align: right;\n",
       "    }\n",
       "</style>\n",
       "<table border=\"1\" class=\"dataframe\">\n",
       "  <thead>\n",
       "    <tr style=\"text-align: right;\">\n",
       "      <th></th>\n",
       "      <th>assists</th>\n",
       "      <th>bonus</th>\n",
       "      <th>bps</th>\n",
       "      <th>chance_of_playing_next_round</th>\n",
       "      <th>chance_of_playing_this_round</th>\n",
       "      <th>clean_sheets</th>\n",
       "      <th>code</th>\n",
       "      <th>cost_change_event</th>\n",
       "      <th>cost_change_event_fall</th>\n",
       "      <th>cost_change_start</th>\n",
       "      <th>...</th>\n",
       "      <th>threat</th>\n",
       "      <th>total_points</th>\n",
       "      <th>transfers_in</th>\n",
       "      <th>transfers_in_event</th>\n",
       "      <th>transfers_out</th>\n",
       "      <th>transfers_out_event</th>\n",
       "      <th>value_form</th>\n",
       "      <th>value_season</th>\n",
       "      <th>web_name</th>\n",
       "      <th>yellow_cards</th>\n",
       "    </tr>\n",
       "  </thead>\n",
       "  <tbody>\n",
       "    <tr>\n",
       "      <th>0</th>\n",
       "      <td>0</td>\n",
       "      <td>3</td>\n",
       "      <td>130</td>\n",
       "      <td>100.0</td>\n",
       "      <td>100.0</td>\n",
       "      <td>1</td>\n",
       "      <td>11334</td>\n",
       "      <td>0</td>\n",
       "      <td>0</td>\n",
       "      <td>-1</td>\n",
       "      <td>...</td>\n",
       "      <td>0.0</td>\n",
       "      <td>24</td>\n",
       "      <td>80151</td>\n",
       "      <td>64</td>\n",
       "      <td>123608</td>\n",
       "      <td>370</td>\n",
       "      <td>0.0</td>\n",
       "      <td>4.9</td>\n",
       "      <td>Cech</td>\n",
       "      <td>0</td>\n",
       "    </tr>\n",
       "    <tr>\n",
       "      <th>1</th>\n",
       "      <td>0</td>\n",
       "      <td>2</td>\n",
       "      <td>203</td>\n",
       "      <td>NaN</td>\n",
       "      <td>NaN</td>\n",
       "      <td>1</td>\n",
       "      <td>80201</td>\n",
       "      <td>0</td>\n",
       "      <td>0</td>\n",
       "      <td>-2</td>\n",
       "      <td>...</td>\n",
       "      <td>0.0</td>\n",
       "      <td>35</td>\n",
       "      <td>99089</td>\n",
       "      <td>773</td>\n",
       "      <td>107222</td>\n",
       "      <td>2502</td>\n",
       "      <td>0.6</td>\n",
       "      <td>7.3</td>\n",
       "      <td>Leno</td>\n",
       "      <td>0</td>\n",
       "    </tr>\n",
       "    <tr>\n",
       "      <th>2</th>\n",
       "      <td>0</td>\n",
       "      <td>0</td>\n",
       "      <td>28</td>\n",
       "      <td>75.0</td>\n",
       "      <td>100.0</td>\n",
       "      <td>0</td>\n",
       "      <td>51507</td>\n",
       "      <td>0</td>\n",
       "      <td>0</td>\n",
       "      <td>-1</td>\n",
       "      <td>...</td>\n",
       "      <td>9.0</td>\n",
       "      <td>2</td>\n",
       "      <td>8026</td>\n",
       "      <td>202</td>\n",
       "      <td>7695</td>\n",
       "      <td>460</td>\n",
       "      <td>0.1</td>\n",
       "      <td>0.4</td>\n",
       "      <td>Koscielny</td>\n",
       "      <td>1</td>\n",
       "    </tr>\n",
       "    <tr>\n",
       "      <th>3</th>\n",
       "      <td>4</td>\n",
       "      <td>3</td>\n",
       "      <td>261</td>\n",
       "      <td>0.0</td>\n",
       "      <td>0.0</td>\n",
       "      <td>3</td>\n",
       "      <td>98745</td>\n",
       "      <td>0</td>\n",
       "      <td>0</td>\n",
       "      <td>-1</td>\n",
       "      <td>...</td>\n",
       "      <td>274.0</td>\n",
       "      <td>48</td>\n",
       "      <td>557736</td>\n",
       "      <td>55</td>\n",
       "      <td>981316</td>\n",
       "      <td>13536</td>\n",
       "      <td>0.2</td>\n",
       "      <td>8.9</td>\n",
       "      <td>Bellerín</td>\n",
       "      <td>3</td>\n",
       "    </tr>\n",
       "    <tr>\n",
       "      <th>4</th>\n",
       "      <td>2</td>\n",
       "      <td>3</td>\n",
       "      <td>166</td>\n",
       "      <td>75.0</td>\n",
       "      <td>75.0</td>\n",
       "      <td>2</td>\n",
       "      <td>38411</td>\n",
       "      <td>0</td>\n",
       "      <td>0</td>\n",
       "      <td>-1</td>\n",
       "      <td>...</td>\n",
       "      <td>163.0</td>\n",
       "      <td>37</td>\n",
       "      <td>208093</td>\n",
       "      <td>19</td>\n",
       "      <td>210284</td>\n",
       "      <td>3377</td>\n",
       "      <td>0.2</td>\n",
       "      <td>6.9</td>\n",
       "      <td>Monreal</td>\n",
       "      <td>1</td>\n",
       "    </tr>\n",
       "  </tbody>\n",
       "</table>\n",
       "<p>5 rows × 58 columns</p>\n",
       "</div>"
      ],
      "text/plain": [
       "   assists  bonus  bps  chance_of_playing_next_round  \\\n",
       "0        0      3  130                         100.0   \n",
       "1        0      2  203                           NaN   \n",
       "2        0      0   28                          75.0   \n",
       "3        4      3  261                           0.0   \n",
       "4        2      3  166                          75.0   \n",
       "\n",
       "   chance_of_playing_this_round  clean_sheets   code  cost_change_event  \\\n",
       "0                         100.0             1  11334                  0   \n",
       "1                           NaN             1  80201                  0   \n",
       "2                         100.0             0  51507                  0   \n",
       "3                           0.0             3  98745                  0   \n",
       "4                          75.0             2  38411                  0   \n",
       "\n",
       "   cost_change_event_fall  cost_change_start     ...       threat  \\\n",
       "0                       0                 -1     ...          0.0   \n",
       "1                       0                 -2     ...          0.0   \n",
       "2                       0                 -1     ...          9.0   \n",
       "3                       0                 -1     ...        274.0   \n",
       "4                       0                 -1     ...        163.0   \n",
       "\n",
       "  total_points  transfers_in  transfers_in_event  transfers_out  \\\n",
       "0           24         80151                  64         123608   \n",
       "1           35         99089                 773         107222   \n",
       "2            2          8026                 202           7695   \n",
       "3           48        557736                  55         981316   \n",
       "4           37        208093                  19         210284   \n",
       "\n",
       "  transfers_out_event value_form  value_season   web_name yellow_cards  \n",
       "0                 370        0.0           4.9       Cech            0  \n",
       "1                2502        0.6           7.3       Leno            0  \n",
       "2                 460        0.1           0.4  Koscielny            1  \n",
       "3               13536        0.2           8.9   Bellerín            3  \n",
       "4                3377        0.2           6.9    Monreal            1  \n",
       "\n",
       "[5 rows x 58 columns]"
      ]
     },
     "execution_count": 8,
     "metadata": {},
     "output_type": "execute_result"
    }
   ],
   "source": [
    "df = get_df(MAIN_API, arg='elements')\n",
    "df.head()"
   ]
  },
  {
   "cell_type": "code",
   "execution_count": 9,
   "metadata": {
    "hidden": true
   },
   "outputs": [
    {
     "data": {
      "text/plain": [
       "Index(['assists', 'bonus', 'bps', 'chance_of_playing_next_round',\n",
       "       'chance_of_playing_this_round', 'clean_sheets', 'code',\n",
       "       'cost_change_event', 'cost_change_event_fall', 'cost_change_start',\n",
       "       'cost_change_start_fall', 'creativity', 'dreamteam_count', 'ea_index',\n",
       "       'element_type', 'ep_next', 'ep_this', 'event_points', 'first_name',\n",
       "       'form', 'goals_conceded', 'goals_scored', 'ict_index', 'id',\n",
       "       'in_dreamteam', 'influence', 'loaned_in', 'loaned_out', 'loans_in',\n",
       "       'loans_out', 'minutes', 'news', 'news_added', 'now_cost', 'own_goals',\n",
       "       'penalties_missed', 'penalties_saved', 'photo', 'points_per_game',\n",
       "       'red_cards', 'saves', 'second_name', 'selected_by_percent', 'special',\n",
       "       'squad_number', 'status', 'team', 'team_code', 'threat', 'total_points',\n",
       "       'transfers_in', 'transfers_in_event', 'transfers_out',\n",
       "       'transfers_out_event', 'value_form', 'value_season', 'web_name',\n",
       "       'yellow_cards'],\n",
       "      dtype='object')"
      ]
     },
     "execution_count": 9,
     "metadata": {},
     "output_type": "execute_result"
    }
   ],
   "source": [
    "df.columns"
   ]
  },
  {
   "cell_type": "markdown",
   "metadata": {
    "heading_collapsed": true
   },
   "source": [
    "## Club Information"
   ]
  },
  {
   "cell_type": "code",
   "execution_count": 56,
   "metadata": {
    "collapsed": true,
    "hidden": true
   },
   "outputs": [],
   "source": [
    "cols = ['id', 'web_name', 'total_points', 'points_per_game', 'team' , 'element_type', 'selected_by_percent']\n",
    "get_team_info(df, 'Man City')[cols].head()"
   ]
  },
  {
   "cell_type": "markdown",
   "metadata": {},
   "source": [
    "## Player Specific Info"
   ]
  },
  {
   "cell_type": "code",
   "execution_count": 11,
   "metadata": {},
   "outputs": [],
   "source": [
    "a = get_player_info(df, 'Fellaini','history')\n",
    "a.head()\n",
    "a.to_excel('player.xlsx')"
   ]
  },
  {
   "cell_type": "markdown",
   "metadata": {
    "collapsed": true
   },
   "source": [
    "## Personal Team and Misc Information"
   ]
  },
  {
   "cell_type": "markdown",
   "metadata": {},
   "source": [
    "### Team Information"
   ]
  },
  {
   "cell_type": "code",
   "execution_count": null,
   "metadata": {
    "collapsed": true
   },
   "outputs": [],
   "source": [
    "data = login(<email_id>, <password, MY_TRANSFERS_API)"
   ]
  },
  {
   "cell_type": "code",
   "execution_count": 60,
   "metadata": {
    "collapsed": true
   },
   "outputs": [],
   "source": [
    "data = login('ranjan31051997@gmail.com', 'Ranjan#105', MY_TRANSFERS_API)\n",
    "print(data.keys())"
   ]
  },
  {
   "cell_type": "code",
   "execution_count": 63,
   "metadata": {},
   "outputs": [
    {
     "data": {
      "text/html": [
       "<div>\n",
       "<style scoped>\n",
       "    .dataframe tbody tr th:only-of-type {\n",
       "        vertical-align: middle;\n",
       "    }\n",
       "\n",
       "    .dataframe tbody tr th {\n",
       "        vertical-align: top;\n",
       "    }\n",
       "\n",
       "    .dataframe thead th {\n",
       "        text-align: right;\n",
       "    }\n",
       "</style>\n",
       "<table border=\"1\" class=\"dataframe\">\n",
       "  <thead>\n",
       "    <tr style=\"text-align: right;\">\n",
       "      <th></th>\n",
       "      <th>element</th>\n",
       "      <th>entry</th>\n",
       "      <th>id</th>\n",
       "      <th>is_captain</th>\n",
       "      <th>is_vice_captain</th>\n",
       "      <th>multiplier</th>\n",
       "      <th>position</th>\n",
       "      <th>purchase_date</th>\n",
       "      <th>purchase_price</th>\n",
       "      <th>selling_price</th>\n",
       "    </tr>\n",
       "  </thead>\n",
       "  <tbody>\n",
       "    <tr>\n",
       "      <th>0</th>\n",
       "      <td>400</td>\n",
       "      <td>2083687</td>\n",
       "      <td>31255291</td>\n",
       "      <td>False</td>\n",
       "      <td>False</td>\n",
       "      <td>1</td>\n",
       "      <td>1</td>\n",
       "      <td>2018-12-21</td>\n",
       "      <td>47</td>\n",
       "      <td>47</td>\n",
       "    </tr>\n",
       "    <tr>\n",
       "      <th>1</th>\n",
       "      <td>155</td>\n",
       "      <td>2083687</td>\n",
       "      <td>31255292</td>\n",
       "      <td>False</td>\n",
       "      <td>False</td>\n",
       "      <td>1</td>\n",
       "      <td>12</td>\n",
       "      <td>2018-08-03</td>\n",
       "      <td>40</td>\n",
       "      <td>40</td>\n",
       "    </tr>\n",
       "    <tr>\n",
       "      <th>2</th>\n",
       "      <td>331</td>\n",
       "      <td>2083687</td>\n",
       "      <td>31255293</td>\n",
       "      <td>False</td>\n",
       "      <td>False</td>\n",
       "      <td>1</td>\n",
       "      <td>4</td>\n",
       "      <td>2018-12-05</td>\n",
       "      <td>41</td>\n",
       "      <td>41</td>\n",
       "    </tr>\n",
       "    <tr>\n",
       "      <th>3</th>\n",
       "      <td>145</td>\n",
       "      <td>2083687</td>\n",
       "      <td>31255294</td>\n",
       "      <td>False</td>\n",
       "      <td>False</td>\n",
       "      <td>1</td>\n",
       "      <td>14</td>\n",
       "      <td>2018-08-03</td>\n",
       "      <td>40</td>\n",
       "      <td>41</td>\n",
       "    </tr>\n",
       "    <tr>\n",
       "      <th>4</th>\n",
       "      <td>409</td>\n",
       "      <td>2083687</td>\n",
       "      <td>31255295</td>\n",
       "      <td>False</td>\n",
       "      <td>False</td>\n",
       "      <td>1</td>\n",
       "      <td>3</td>\n",
       "      <td>2018-12-04</td>\n",
       "      <td>43</td>\n",
       "      <td>43</td>\n",
       "    </tr>\n",
       "  </tbody>\n",
       "</table>\n",
       "</div>"
      ],
      "text/plain": [
       "   element    entry        id  is_captain  is_vice_captain  multiplier  \\\n",
       "0      400  2083687  31255291       False            False           1   \n",
       "1      155  2083687  31255292       False            False           1   \n",
       "2      331  2083687  31255293       False            False           1   \n",
       "3      145  2083687  31255294       False            False           1   \n",
       "4      409  2083687  31255295       False            False           1   \n",
       "\n",
       "   position purchase_date  purchase_price  selling_price  \n",
       "0         1    2018-12-21              47             47  \n",
       "1        12    2018-08-03              40             40  \n",
       "2         4    2018-12-05              41             41  \n",
       "3        14    2018-08-03              40             41  \n",
       "4         3    2018-12-04              43             43  "
      ]
     },
     "execution_count": 63,
     "metadata": {},
     "output_type": "execute_result"
    }
   ],
   "source": [
    "x = pd.DataFrame(data['picks'])\n",
    "x.head()"
   ]
  },
  {
   "cell_type": "code",
   "execution_count": 28,
   "metadata": {
    "collapsed": true
   },
   "outputs": [],
   "source": [
    "l = df[['id', 'web_name']]\n",
    "names = l.set_index('id').to_dict()['web_name']\n",
    "names_df = x.replace({'element': names})"
   ]
  },
  {
   "cell_type": "code",
   "execution_count": 32,
   "metadata": {
    "collapsed": true
   },
   "outputs": [],
   "source": [
    "names_df.head()"
   ]
  },
  {
   "cell_type": "markdown",
   "metadata": {},
   "source": [
    "### Details of a particular league"
   ]
  },
  {
   "cell_type": "code",
   "execution_count": 20,
   "metadata": {
    "collapsed": true
   },
   "outputs": [],
   "source": [
    "#Only if you created the league\n",
    "i = 657907\n",
    "data = login('ranjan31051997@gmail.com', 'Ranjan#105', MY_LEAGUE_STANDING + str(i))"
   ]
  },
  {
   "cell_type": "code",
   "execution_count": 21,
   "metadata": {},
   "outputs": [
    {
     "data": {
      "text/plain": [
       "dict_keys(['league', 'entries'])"
      ]
     },
     "execution_count": 21,
     "metadata": {},
     "output_type": "execute_result"
    }
   ],
   "source": [
    "data.keys()"
   ]
  },
  {
   "cell_type": "code",
   "execution_count": 22,
   "metadata": {},
   "outputs": [
    {
     "data": {
      "text/html": [
       "<div>\n",
       "<style scoped>\n",
       "    .dataframe tbody tr th:only-of-type {\n",
       "        vertical-align: middle;\n",
       "    }\n",
       "\n",
       "    .dataframe tbody tr th {\n",
       "        vertical-align: top;\n",
       "    }\n",
       "\n",
       "    .dataframe thead th {\n",
       "        text-align: right;\n",
       "    }\n",
       "</style>\n",
       "<table border=\"1\" class=\"dataframe\">\n",
       "  <thead>\n",
       "    <tr style=\"text-align: right;\">\n",
       "      <th></th>\n",
       "      <th>entry</th>\n",
       "      <th>entry_name</th>\n",
       "      <th>id</th>\n",
       "      <th>joined_time</th>\n",
       "      <th>league</th>\n",
       "      <th>player_first_name</th>\n",
       "      <th>player_last_name</th>\n",
       "    </tr>\n",
       "  </thead>\n",
       "  <tbody>\n",
       "    <tr>\n",
       "      <th>0</th>\n",
       "      <td>2083687</td>\n",
       "      <td>BootyGuy</td>\n",
       "      <td>16765657</td>\n",
       "      <td>2018-08-07T12:25:55Z</td>\n",
       "      <td>657907</td>\n",
       "      <td>Ranjan</td>\n",
       "      <td>Srinivas</td>\n",
       "    </tr>\n",
       "    <tr>\n",
       "      <th>1</th>\n",
       "      <td>3096386</td>\n",
       "      <td>Anything</td>\n",
       "      <td>18227032</td>\n",
       "      <td>2018-08-08T09:23:37Z</td>\n",
       "      <td>657907</td>\n",
       "      <td>Sreevatsan</td>\n",
       "      <td>Murthy</td>\n",
       "    </tr>\n",
       "    <tr>\n",
       "      <th>2</th>\n",
       "      <td>2895680</td>\n",
       "      <td>God Save the Queen</td>\n",
       "      <td>24387457</td>\n",
       "      <td>2018-08-10T08:10:14Z</td>\n",
       "      <td>657907</td>\n",
       "      <td>Kavialagan</td>\n",
       "      <td>Arjunan</td>\n",
       "    </tr>\n",
       "    <tr>\n",
       "      <th>3</th>\n",
       "      <td>4214519</td>\n",
       "      <td>Star Ash</td>\n",
       "      <td>26170484</td>\n",
       "      <td>2018-08-10T13:05:34Z</td>\n",
       "      <td>657907</td>\n",
       "      <td>Jebin</td>\n",
       "      <td>Moses</td>\n",
       "    </tr>\n",
       "  </tbody>\n",
       "</table>\n",
       "</div>"
      ],
      "text/plain": [
       "     entry          entry_name        id           joined_time  league  \\\n",
       "0  2083687            BootyGuy  16765657  2018-08-07T12:25:55Z  657907   \n",
       "1  3096386            Anything  18227032  2018-08-08T09:23:37Z  657907   \n",
       "2  2895680  God Save the Queen  24387457  2018-08-10T08:10:14Z  657907   \n",
       "3  4214519            Star Ash  26170484  2018-08-10T13:05:34Z  657907   \n",
       "\n",
       "  player_first_name player_last_name  \n",
       "0            Ranjan         Srinivas  \n",
       "1        Sreevatsan           Murthy  \n",
       "2        Kavialagan          Arjunan  \n",
       "3             Jebin            Moses  "
      ]
     },
     "execution_count": 22,
     "metadata": {},
     "output_type": "execute_result"
    }
   ],
   "source": [
    "x = pd.DataFrame(data['entries'])\n",
    "x"
   ]
  },
  {
   "cell_type": "markdown",
   "metadata": {},
   "source": [
    "### Events"
   ]
  },
  {
   "cell_type": "code",
   "execution_count": 45,
   "metadata": {
    "collapsed": true
   },
   "outputs": [],
   "source": [
    "data = login('ranjan31051997@gmail.com', 'Ranjan#105', EVENTS)\n",
    "x = pd.DataFrame(data)\n",
    "x.head()"
   ]
  }
 ],
 "metadata": {
  "kernelspec": {
   "display_name": "Python 3",
   "language": "python",
   "name": "python3"
  },
  "language_info": {
   "codemirror_mode": {
    "name": "ipython",
    "version": 3
   },
   "file_extension": ".py",
   "mimetype": "text/x-python",
   "name": "python",
   "nbconvert_exporter": "python",
   "pygments_lexer": "ipython3",
   "version": "3.6.3"
  }
 },
 "nbformat": 4,
 "nbformat_minor": 2
}
