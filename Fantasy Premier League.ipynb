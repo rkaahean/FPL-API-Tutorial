{
 "cells": [
  {
   "cell_type": "code",
   "execution_count": 49,
   "metadata": {
    "collapsed": true
   },
   "outputs": [],
   "source": [
    "import requests\n",
    "import pandas as pd\n",
    "import random\n",
    "from tqdm import tqdm\n",
    "import requests\n",
    "from bs4 import BeautifulSoup\n",
    "import re"
   ]
  },
  {
   "cell_type": "code",
   "execution_count": 50,
   "metadata": {
    "collapsed": true
   },
   "outputs": [],
   "source": [
    "MAIN_API = 'https://fantasy.premierleague.com/drf/bootstrap-static'\n",
    "TEAMS_API = 'https://fantasy.premierleague.com/drf/teams'\n",
    "TYPES_API = 'https://fantasy.premierleague.com/drf/element-types/'\n",
    "PLAYER_API = 'https://fantasy.premierleague.com/drf/element-summary/'\n",
    "MY_TEAM_API = 'https://fantasy.premierleague.com/drf/my-team/2083687'\n",
    "MY_TRANSFERS_API = 'https://fantasy.premierleague.com/drf/transfers'\n",
    "MY_LEAGUES = 'https://fantasy.premierleague.com/drf/leagues-entered/2083687'\n",
    "MY_LEAGUE_STANDING = 'https://fantasy.premierleague.com/drf/leagues-classic/'\n",
    "ENTRIES = 'https://fantasy.premierleague.com/drf/entries'\n",
    "EVENTS = 'https://fantasy.premierleague.com/drf/events'"
   ]
  },
  {
   "cell_type": "code",
   "execution_count": 51,
   "metadata": {
    "collapsed": true
   },
   "outputs": [],
   "source": [
    "def get_df(api, **kwargs):\n",
    "    data = requests.get(api).json()\n",
    "    #print(data.keys())\n",
    "    for key, value in kwargs.items():\n",
    "        if key =='arg':\n",
    "            data = data[value]\n",
    "    return pd.DataFrame.from_dict(data, orient = 'columns')"
   ]
  },
  {
   "cell_type": "code",
   "execution_count": 52,
   "metadata": {
    "collapsed": true
   },
   "outputs": [],
   "source": [
    "def login(username, password, api):\n",
    "    # Fill in your details here to be posted to the login form.\n",
    "    payload = {\n",
    "        'login': username,\n",
    "        'password': password,\n",
    "        'app' :'plfpl-web',\n",
    "        'redirect_uri': 'https://fantasy.premierleague.com/a/login'\n",
    "    }\n",
    "\n",
    "    # Use 'with' to ensure the session context is closed after use.\n",
    "    with requests.Session() as s:\n",
    "\n",
    "        s.get('https://fantasy.premierleague.com')\n",
    "        csrftoken = s.cookies[\"csrftoken\"]\n",
    "        payload['csrfmiddlewaretoken'] = csrftoken\n",
    "        p = s.post('https://users.premierleague.com/accounts/login/', data=payload)\n",
    "        #print(p.text)\n",
    "\n",
    "        #print(p.text)\n",
    "        # An authorised request.\n",
    "        r = s.get(api)\n",
    "        \n",
    "    return r.json()"
   ]
  },
  {
   "cell_type": "code",
   "execution_count": 53,
   "metadata": {
    "collapsed": true
   },
   "outputs": [],
   "source": [
    "def get_team_info(data, team, **kwargs):\n",
    "    teams = get_df(TEAMS_API)\n",
    "    teams = teams[['id', 'name']]\n",
    "    team_names = teams.set_index('id').to_dict()['name']\n",
    "    types = get_df(TYPES_API)\n",
    "    types = types[['id', 'singular_name_short']]\n",
    "    types = types.set_index('id').to_dict()['singular_name_short']\n",
    "    n_df = df.replace({'team': team_names, 'element_type': types})\n",
    "    return n_df[n_df['team'] == team]"
   ]
  },
  {
   "cell_type": "code",
   "execution_count": 6,
   "metadata": {
    "collapsed": true
   },
   "outputs": [],
   "source": [
    " def get_player_info(df, name, tag):\n",
    "    player_ids = df[['id', 'web_name']]\n",
    "    i = player_ids[player_ids['web_name'] == name]['id'].values[0]\n",
    "    api = PLAYER_API + str(i)\n",
    "    x = get_df(api, arg = tag)\n",
    "    return x"
   ]
  },
  {
   "cell_type": "markdown",
   "metadata": {
    "heading_collapsed": true
   },
   "source": [
    "## Main API"
   ]
  },
  {
   "cell_type": "code",
   "execution_count": 54,
   "metadata": {
    "hidden": true
   },
   "outputs": [
    {
     "data": {
      "text/html": [
       "<div>\n",
       "<style scoped>\n",
       "    .dataframe tbody tr th:only-of-type {\n",
       "        vertical-align: middle;\n",
       "    }\n",
       "\n",
       "    .dataframe tbody tr th {\n",
       "        vertical-align: top;\n",
       "    }\n",
       "\n",
       "    .dataframe thead th {\n",
       "        text-align: right;\n",
       "    }\n",
       "</style>\n",
       "<table border=\"1\" class=\"dataframe\">\n",
       "  <thead>\n",
       "    <tr style=\"text-align: right;\">\n",
       "      <th></th>\n",
       "      <th>assists</th>\n",
       "      <th>bonus</th>\n",
       "      <th>bps</th>\n",
       "      <th>chance_of_playing_next_round</th>\n",
       "      <th>chance_of_playing_this_round</th>\n",
       "      <th>clean_sheets</th>\n",
       "      <th>code</th>\n",
       "      <th>cost_change_event</th>\n",
       "      <th>cost_change_event_fall</th>\n",
       "      <th>cost_change_start</th>\n",
       "      <th>...</th>\n",
       "      <th>threat</th>\n",
       "      <th>total_points</th>\n",
       "      <th>transfers_in</th>\n",
       "      <th>transfers_in_event</th>\n",
       "      <th>transfers_out</th>\n",
       "      <th>transfers_out_event</th>\n",
       "      <th>value_form</th>\n",
       "      <th>value_season</th>\n",
       "      <th>web_name</th>\n",
       "      <th>yellow_cards</th>\n",
       "    </tr>\n",
       "  </thead>\n",
       "  <tbody>\n",
       "    <tr>\n",
       "      <th>0</th>\n",
       "      <td>0</td>\n",
       "      <td>3</td>\n",
       "      <td>130</td>\n",
       "      <td>100.0</td>\n",
       "      <td>100.0</td>\n",
       "      <td>1</td>\n",
       "      <td>11334</td>\n",
       "      <td>0</td>\n",
       "      <td>0</td>\n",
       "      <td>-1</td>\n",
       "      <td>...</td>\n",
       "      <td>0.0</td>\n",
       "      <td>24</td>\n",
       "      <td>79860</td>\n",
       "      <td>12</td>\n",
       "      <td>121560</td>\n",
       "      <td>51</td>\n",
       "      <td>0.0</td>\n",
       "      <td>4.9</td>\n",
       "      <td>Cech</td>\n",
       "      <td>0</td>\n",
       "    </tr>\n",
       "    <tr>\n",
       "      <th>1</th>\n",
       "      <td>0</td>\n",
       "      <td>2</td>\n",
       "      <td>176</td>\n",
       "      <td>NaN</td>\n",
       "      <td>NaN</td>\n",
       "      <td>1</td>\n",
       "      <td>80201</td>\n",
       "      <td>0</td>\n",
       "      <td>0</td>\n",
       "      <td>-2</td>\n",
       "      <td>...</td>\n",
       "      <td>0.0</td>\n",
       "      <td>31</td>\n",
       "      <td>92716</td>\n",
       "      <td>177</td>\n",
       "      <td>97637</td>\n",
       "      <td>209</td>\n",
       "      <td>0.6</td>\n",
       "      <td>6.5</td>\n",
       "      <td>Leno</td>\n",
       "      <td>0</td>\n",
       "    </tr>\n",
       "    <tr>\n",
       "      <th>2</th>\n",
       "      <td>0</td>\n",
       "      <td>0</td>\n",
       "      <td>11</td>\n",
       "      <td>100.0</td>\n",
       "      <td>100.0</td>\n",
       "      <td>0</td>\n",
       "      <td>51507</td>\n",
       "      <td>0</td>\n",
       "      <td>0</td>\n",
       "      <td>-1</td>\n",
       "      <td>...</td>\n",
       "      <td>7.0</td>\n",
       "      <td>0</td>\n",
       "      <td>6355</td>\n",
       "      <td>91</td>\n",
       "      <td>5475</td>\n",
       "      <td>31</td>\n",
       "      <td>0.0</td>\n",
       "      <td>0.0</td>\n",
       "      <td>Koscielny</td>\n",
       "      <td>1</td>\n",
       "    </tr>\n",
       "    <tr>\n",
       "      <th>3</th>\n",
       "      <td>4</td>\n",
       "      <td>3</td>\n",
       "      <td>261</td>\n",
       "      <td>0.0</td>\n",
       "      <td>0.0</td>\n",
       "      <td>3</td>\n",
       "      <td>98745</td>\n",
       "      <td>-1</td>\n",
       "      <td>1</td>\n",
       "      <td>-1</td>\n",
       "      <td>...</td>\n",
       "      <td>274.0</td>\n",
       "      <td>48</td>\n",
       "      <td>557389</td>\n",
       "      <td>22</td>\n",
       "      <td>860125</td>\n",
       "      <td>8118</td>\n",
       "      <td>0.3</td>\n",
       "      <td>8.7</td>\n",
       "      <td>Bellerín</td>\n",
       "      <td>3</td>\n",
       "    </tr>\n",
       "    <tr>\n",
       "      <th>4</th>\n",
       "      <td>2</td>\n",
       "      <td>3</td>\n",
       "      <td>156</td>\n",
       "      <td>100.0</td>\n",
       "      <td>100.0</td>\n",
       "      <td>2</td>\n",
       "      <td>38411</td>\n",
       "      <td>0</td>\n",
       "      <td>0</td>\n",
       "      <td>-1</td>\n",
       "      <td>...</td>\n",
       "      <td>163.0</td>\n",
       "      <td>36</td>\n",
       "      <td>207550</td>\n",
       "      <td>440</td>\n",
       "      <td>178853</td>\n",
       "      <td>154</td>\n",
       "      <td>0.2</td>\n",
       "      <td>6.7</td>\n",
       "      <td>Monreal</td>\n",
       "      <td>1</td>\n",
       "    </tr>\n",
       "  </tbody>\n",
       "</table>\n",
       "<p>5 rows × 58 columns</p>\n",
       "</div>"
      ],
      "text/plain": [
       "   assists  bonus  bps  chance_of_playing_next_round  \\\n",
       "0        0      3  130                         100.0   \n",
       "1        0      2  176                           NaN   \n",
       "2        0      0   11                         100.0   \n",
       "3        4      3  261                           0.0   \n",
       "4        2      3  156                         100.0   \n",
       "\n",
       "   chance_of_playing_this_round  clean_sheets   code  cost_change_event  \\\n",
       "0                         100.0             1  11334                  0   \n",
       "1                           NaN             1  80201                  0   \n",
       "2                         100.0             0  51507                  0   \n",
       "3                           0.0             3  98745                 -1   \n",
       "4                         100.0             2  38411                  0   \n",
       "\n",
       "   cost_change_event_fall  cost_change_start     ...       threat  \\\n",
       "0                       0                 -1     ...          0.0   \n",
       "1                       0                 -2     ...          0.0   \n",
       "2                       0                 -1     ...          7.0   \n",
       "3                       1                 -1     ...        274.0   \n",
       "4                       0                 -1     ...        163.0   \n",
       "\n",
       "  total_points  transfers_in  transfers_in_event  transfers_out  \\\n",
       "0           24         79860                  12         121560   \n",
       "1           31         92716                 177          97637   \n",
       "2            0          6355                  91           5475   \n",
       "3           48        557389                  22         860125   \n",
       "4           36        207550                 440         178853   \n",
       "\n",
       "  transfers_out_event value_form  value_season   web_name yellow_cards  \n",
       "0                  51        0.0           4.9       Cech            0  \n",
       "1                 209        0.6           6.5       Leno            0  \n",
       "2                  31        0.0           0.0  Koscielny            1  \n",
       "3                8118        0.3           8.7   Bellerín            3  \n",
       "4                 154        0.2           6.7    Monreal            1  \n",
       "\n",
       "[5 rows x 58 columns]"
      ]
     },
     "execution_count": 54,
     "metadata": {},
     "output_type": "execute_result"
    }
   ],
   "source": [
    "df = get_df(MAIN_API, arg='elements')\n",
    "df.head()"
   ]
  },
  {
   "cell_type": "code",
   "execution_count": 55,
   "metadata": {
    "hidden": true
   },
   "outputs": [
    {
     "data": {
      "text/plain": [
       "Index(['assists', 'bonus', 'bps', 'chance_of_playing_next_round',\n",
       "       'chance_of_playing_this_round', 'clean_sheets', 'code',\n",
       "       'cost_change_event', 'cost_change_event_fall', 'cost_change_start',\n",
       "       'cost_change_start_fall', 'creativity', 'dreamteam_count', 'ea_index',\n",
       "       'element_type', 'ep_next', 'ep_this', 'event_points', 'first_name',\n",
       "       'form', 'goals_conceded', 'goals_scored', 'ict_index', 'id',\n",
       "       'in_dreamteam', 'influence', 'loaned_in', 'loaned_out', 'loans_in',\n",
       "       'loans_out', 'minutes', 'news', 'news_added', 'now_cost', 'own_goals',\n",
       "       'penalties_missed', 'penalties_saved', 'photo', 'points_per_game',\n",
       "       'red_cards', 'saves', 'second_name', 'selected_by_percent', 'special',\n",
       "       'squad_number', 'status', 'team', 'team_code', 'threat', 'total_points',\n",
       "       'transfers_in', 'transfers_in_event', 'transfers_out',\n",
       "       'transfers_out_event', 'value_form', 'value_season', 'web_name',\n",
       "       'yellow_cards'],\n",
       "      dtype='object')"
      ]
     },
     "execution_count": 55,
     "metadata": {},
     "output_type": "execute_result"
    }
   ],
   "source": [
    "df.columns"
   ]
  },
  {
   "cell_type": "markdown",
   "metadata": {
    "heading_collapsed": true
   },
   "source": [
    "## Club Information"
   ]
  },
  {
   "cell_type": "code",
   "execution_count": 56,
   "metadata": {
    "collapsed": true,
    "hidden": true
   },
   "outputs": [],
   "source": [
    "cols = ['id', 'web_name', 'total_points', 'points_per_game', 'team' , 'element_type', 'selected_by_percent']\n",
    "get_team_info(df, 'Man City')[cols].head()"
   ]
  },
  {
   "cell_type": "markdown",
   "metadata": {
    "heading_collapsed": true
   },
   "source": [
    "## Player Specific Info"
   ]
  },
  {
   "cell_type": "code",
   "execution_count": 58,
   "metadata": {
    "hidden": true
   },
   "outputs": [
    {
     "data": {
      "text/html": [
       "<div>\n",
       "<style scoped>\n",
       "    .dataframe tbody tr th:only-of-type {\n",
       "        vertical-align: middle;\n",
       "    }\n",
       "\n",
       "    .dataframe tbody tr th {\n",
       "        vertical-align: top;\n",
       "    }\n",
       "\n",
       "    .dataframe thead th {\n",
       "        text-align: right;\n",
       "    }\n",
       "</style>\n",
       "<table border=\"1\" class=\"dataframe\">\n",
       "  <thead>\n",
       "    <tr style=\"text-align: right;\">\n",
       "      <th></th>\n",
       "      <th>assists</th>\n",
       "      <th>attempted_passes</th>\n",
       "      <th>big_chances_created</th>\n",
       "      <th>big_chances_missed</th>\n",
       "      <th>bonus</th>\n",
       "      <th>bps</th>\n",
       "      <th>clean_sheets</th>\n",
       "      <th>clearances_blocks_interceptions</th>\n",
       "      <th>completed_passes</th>\n",
       "      <th>creativity</th>\n",
       "      <th>...</th>\n",
       "      <th>team_h_score</th>\n",
       "      <th>threat</th>\n",
       "      <th>total_points</th>\n",
       "      <th>transfers_balance</th>\n",
       "      <th>transfers_in</th>\n",
       "      <th>transfers_out</th>\n",
       "      <th>value</th>\n",
       "      <th>was_home</th>\n",
       "      <th>winning_goals</th>\n",
       "      <th>yellow_cards</th>\n",
       "    </tr>\n",
       "  </thead>\n",
       "  <tbody>\n",
       "    <tr>\n",
       "      <th>0</th>\n",
       "      <td>0</td>\n",
       "      <td>0</td>\n",
       "      <td>0</td>\n",
       "      <td>0</td>\n",
       "      <td>0</td>\n",
       "      <td>4</td>\n",
       "      <td>0</td>\n",
       "      <td>2</td>\n",
       "      <td>0</td>\n",
       "      <td>0.0</td>\n",
       "      <td>...</td>\n",
       "      <td>2.0</td>\n",
       "      <td>0.0</td>\n",
       "      <td>1</td>\n",
       "      <td>0</td>\n",
       "      <td>0</td>\n",
       "      <td>0</td>\n",
       "      <td>50</td>\n",
       "      <td>True</td>\n",
       "      <td>0</td>\n",
       "      <td>0</td>\n",
       "    </tr>\n",
       "    <tr>\n",
       "      <th>1</th>\n",
       "      <td>1</td>\n",
       "      <td>16</td>\n",
       "      <td>0</td>\n",
       "      <td>0</td>\n",
       "      <td>0</td>\n",
       "      <td>12</td>\n",
       "      <td>0</td>\n",
       "      <td>0</td>\n",
       "      <td>12</td>\n",
       "      <td>3.7</td>\n",
       "      <td>...</td>\n",
       "      <td>3.0</td>\n",
       "      <td>2.0</td>\n",
       "      <td>4</td>\n",
       "      <td>-1773</td>\n",
       "      <td>2101</td>\n",
       "      <td>3874</td>\n",
       "      <td>50</td>\n",
       "      <td>False</td>\n",
       "      <td>0</td>\n",
       "      <td>0</td>\n",
       "    </tr>\n",
       "    <tr>\n",
       "      <th>2</th>\n",
       "      <td>0</td>\n",
       "      <td>21</td>\n",
       "      <td>0</td>\n",
       "      <td>0</td>\n",
       "      <td>0</td>\n",
       "      <td>5</td>\n",
       "      <td>0</td>\n",
       "      <td>0</td>\n",
       "      <td>15</td>\n",
       "      <td>17.3</td>\n",
       "      <td>...</td>\n",
       "      <td>0.0</td>\n",
       "      <td>4.0</td>\n",
       "      <td>1</td>\n",
       "      <td>-248</td>\n",
       "      <td>4162</td>\n",
       "      <td>4410</td>\n",
       "      <td>50</td>\n",
       "      <td>True</td>\n",
       "      <td>0</td>\n",
       "      <td>0</td>\n",
       "    </tr>\n",
       "    <tr>\n",
       "      <th>3</th>\n",
       "      <td>0</td>\n",
       "      <td>54</td>\n",
       "      <td>0</td>\n",
       "      <td>0</td>\n",
       "      <td>0</td>\n",
       "      <td>16</td>\n",
       "      <td>1</td>\n",
       "      <td>7</td>\n",
       "      <td>50</td>\n",
       "      <td>4.8</td>\n",
       "      <td>...</td>\n",
       "      <td>0.0</td>\n",
       "      <td>0.0</td>\n",
       "      <td>3</td>\n",
       "      <td>-2770</td>\n",
       "      <td>2185</td>\n",
       "      <td>4955</td>\n",
       "      <td>50</td>\n",
       "      <td>False</td>\n",
       "      <td>0</td>\n",
       "      <td>0</td>\n",
       "    </tr>\n",
       "    <tr>\n",
       "      <th>4</th>\n",
       "      <td>1</td>\n",
       "      <td>65</td>\n",
       "      <td>0</td>\n",
       "      <td>0</td>\n",
       "      <td>0</td>\n",
       "      <td>24</td>\n",
       "      <td>0</td>\n",
       "      <td>6</td>\n",
       "      <td>53</td>\n",
       "      <td>12.4</td>\n",
       "      <td>...</td>\n",
       "      <td>1.0</td>\n",
       "      <td>4.0</td>\n",
       "      <td>5</td>\n",
       "      <td>-2573</td>\n",
       "      <td>3694</td>\n",
       "      <td>6267</td>\n",
       "      <td>50</td>\n",
       "      <td>False</td>\n",
       "      <td>0</td>\n",
       "      <td>0</td>\n",
       "    </tr>\n",
       "  </tbody>\n",
       "</table>\n",
       "<p>5 rows × 54 columns</p>\n",
       "</div>"
      ],
      "text/plain": [
       "   assists  attempted_passes  big_chances_created  big_chances_missed  bonus  \\\n",
       "0        0                 0                    0                   0      0   \n",
       "1        1                16                    0                   0      0   \n",
       "2        0                21                    0                   0      0   \n",
       "3        0                54                    0                   0      0   \n",
       "4        1                65                    0                   0      0   \n",
       "\n",
       "   bps  clean_sheets  clearances_blocks_interceptions  completed_passes  \\\n",
       "0    4             0                                2                 0   \n",
       "1   12             0                                0                12   \n",
       "2    5             0                                0                15   \n",
       "3   16             1                                7                50   \n",
       "4   24             0                                6                53   \n",
       "\n",
       "  creativity     ...       team_h_score  threat  total_points  \\\n",
       "0        0.0     ...                2.0     0.0             1   \n",
       "1        3.7     ...                3.0     2.0             4   \n",
       "2       17.3     ...                0.0     4.0             1   \n",
       "3        4.8     ...                0.0     0.0             3   \n",
       "4       12.4     ...                1.0     4.0             5   \n",
       "\n",
       "   transfers_balance  transfers_in  transfers_out  value  was_home  \\\n",
       "0                  0             0              0     50      True   \n",
       "1              -1773          2101           3874     50     False   \n",
       "2               -248          4162           4410     50      True   \n",
       "3              -2770          2185           4955     50     False   \n",
       "4              -2573          3694           6267     50     False   \n",
       "\n",
       "   winning_goals yellow_cards  \n",
       "0              0            0  \n",
       "1              0            0  \n",
       "2              0            0  \n",
       "3              0            0  \n",
       "4              0            0  \n",
       "\n",
       "[5 rows x 54 columns]"
      ]
     },
     "execution_count": 58,
     "metadata": {},
     "output_type": "execute_result"
    }
   ],
   "source": [
    "get_player_info(df, 'Fellaini','history').head()"
   ]
  },
  {
   "cell_type": "markdown",
   "metadata": {
    "collapsed": true
   },
   "source": [
    "## Personal Team and Misc Information"
   ]
  },
  {
   "cell_type": "markdown",
   "metadata": {},
   "source": [
    "### Team Information"
   ]
  },
  {
   "cell_type": "code",
   "execution_count": null,
   "metadata": {
    "collapsed": true
   },
   "outputs": [],
   "source": [
    "data = login(<email_id>, <password, MY_TRANSFERS_API)"
   ]
  },
  {
   "cell_type": "code",
   "execution_count": 60,
   "metadata": {},
   "outputs": [],
   "source": [
    "data = login('ranjan31051997@gmail.com', 'Ranjan#105', MY_TRANSFERS_API)\n",
    "print(data.keys())"
   ]
  },
  {
   "cell_type": "code",
   "execution_count": 63,
   "metadata": {},
   "outputs": [
    {
     "data": {
      "text/html": [
       "<div>\n",
       "<style scoped>\n",
       "    .dataframe tbody tr th:only-of-type {\n",
       "        vertical-align: middle;\n",
       "    }\n",
       "\n",
       "    .dataframe tbody tr th {\n",
       "        vertical-align: top;\n",
       "    }\n",
       "\n",
       "    .dataframe thead th {\n",
       "        text-align: right;\n",
       "    }\n",
       "</style>\n",
       "<table border=\"1\" class=\"dataframe\">\n",
       "  <thead>\n",
       "    <tr style=\"text-align: right;\">\n",
       "      <th></th>\n",
       "      <th>element</th>\n",
       "      <th>entry</th>\n",
       "      <th>id</th>\n",
       "      <th>is_captain</th>\n",
       "      <th>is_vice_captain</th>\n",
       "      <th>multiplier</th>\n",
       "      <th>position</th>\n",
       "      <th>purchase_date</th>\n",
       "      <th>purchase_price</th>\n",
       "      <th>selling_price</th>\n",
       "    </tr>\n",
       "  </thead>\n",
       "  <tbody>\n",
       "    <tr>\n",
       "      <th>0</th>\n",
       "      <td>400</td>\n",
       "      <td>2083687</td>\n",
       "      <td>31255291</td>\n",
       "      <td>False</td>\n",
       "      <td>False</td>\n",
       "      <td>1</td>\n",
       "      <td>1</td>\n",
       "      <td>2018-12-21</td>\n",
       "      <td>47</td>\n",
       "      <td>47</td>\n",
       "    </tr>\n",
       "    <tr>\n",
       "      <th>1</th>\n",
       "      <td>155</td>\n",
       "      <td>2083687</td>\n",
       "      <td>31255292</td>\n",
       "      <td>False</td>\n",
       "      <td>False</td>\n",
       "      <td>1</td>\n",
       "      <td>12</td>\n",
       "      <td>2018-08-03</td>\n",
       "      <td>40</td>\n",
       "      <td>40</td>\n",
       "    </tr>\n",
       "    <tr>\n",
       "      <th>2</th>\n",
       "      <td>331</td>\n",
       "      <td>2083687</td>\n",
       "      <td>31255293</td>\n",
       "      <td>False</td>\n",
       "      <td>False</td>\n",
       "      <td>1</td>\n",
       "      <td>4</td>\n",
       "      <td>2018-12-05</td>\n",
       "      <td>41</td>\n",
       "      <td>41</td>\n",
       "    </tr>\n",
       "    <tr>\n",
       "      <th>3</th>\n",
       "      <td>145</td>\n",
       "      <td>2083687</td>\n",
       "      <td>31255294</td>\n",
       "      <td>False</td>\n",
       "      <td>False</td>\n",
       "      <td>1</td>\n",
       "      <td>14</td>\n",
       "      <td>2018-08-03</td>\n",
       "      <td>40</td>\n",
       "      <td>41</td>\n",
       "    </tr>\n",
       "    <tr>\n",
       "      <th>4</th>\n",
       "      <td>409</td>\n",
       "      <td>2083687</td>\n",
       "      <td>31255295</td>\n",
       "      <td>False</td>\n",
       "      <td>False</td>\n",
       "      <td>1</td>\n",
       "      <td>3</td>\n",
       "      <td>2018-12-04</td>\n",
       "      <td>43</td>\n",
       "      <td>43</td>\n",
       "    </tr>\n",
       "  </tbody>\n",
       "</table>\n",
       "</div>"
      ],
      "text/plain": [
       "   element    entry        id  is_captain  is_vice_captain  multiplier  \\\n",
       "0      400  2083687  31255291       False            False           1   \n",
       "1      155  2083687  31255292       False            False           1   \n",
       "2      331  2083687  31255293       False            False           1   \n",
       "3      145  2083687  31255294       False            False           1   \n",
       "4      409  2083687  31255295       False            False           1   \n",
       "\n",
       "   position purchase_date  purchase_price  selling_price  \n",
       "0         1    2018-12-21              47             47  \n",
       "1        12    2018-08-03              40             40  \n",
       "2         4    2018-12-05              41             41  \n",
       "3        14    2018-08-03              40             41  \n",
       "4         3    2018-12-04              43             43  "
      ]
     },
     "execution_count": 63,
     "metadata": {},
     "output_type": "execute_result"
    }
   ],
   "source": [
    "x = pd.DataFrame(data['picks'])\n",
    "x.head()"
   ]
  },
  {
   "cell_type": "code",
   "execution_count": 28,
   "metadata": {},
   "outputs": [],
   "source": [
    "l = df[['id', 'web_name']]\n",
    "names = l.set_index('id').to_dict()['web_name']\n",
    "names_df = x.replace({'element': names})"
   ]
  },
  {
   "cell_type": "code",
   "execution_count": 32,
   "metadata": {},
   "outputs": [],
   "source": [
    "names_df.head()"
   ]
  },
  {
   "cell_type": "markdown",
   "metadata": {},
   "source": [
    "### Details of a particular league"
   ]
  },
  {
   "cell_type": "code",
   "execution_count": 20,
   "metadata": {},
   "outputs": [],
   "source": [
    "#Only if you created the league\n",
    "i = 657907\n",
    "data = login('ranjan31051997@gmail.com', 'Ranjan#105', MY_LEAGUE_STANDING + str(i))"
   ]
  },
  {
   "cell_type": "code",
   "execution_count": 21,
   "metadata": {},
   "outputs": [
    {
     "data": {
      "text/plain": [
       "dict_keys(['league', 'entries'])"
      ]
     },
     "execution_count": 21,
     "metadata": {},
     "output_type": "execute_result"
    }
   ],
   "source": [
    "data.keys()"
   ]
  },
  {
   "cell_type": "code",
   "execution_count": 22,
   "metadata": {},
   "outputs": [
    {
     "data": {
      "text/html": [
       "<div>\n",
       "<style scoped>\n",
       "    .dataframe tbody tr th:only-of-type {\n",
       "        vertical-align: middle;\n",
       "    }\n",
       "\n",
       "    .dataframe tbody tr th {\n",
       "        vertical-align: top;\n",
       "    }\n",
       "\n",
       "    .dataframe thead th {\n",
       "        text-align: right;\n",
       "    }\n",
       "</style>\n",
       "<table border=\"1\" class=\"dataframe\">\n",
       "  <thead>\n",
       "    <tr style=\"text-align: right;\">\n",
       "      <th></th>\n",
       "      <th>entry</th>\n",
       "      <th>entry_name</th>\n",
       "      <th>id</th>\n",
       "      <th>joined_time</th>\n",
       "      <th>league</th>\n",
       "      <th>player_first_name</th>\n",
       "      <th>player_last_name</th>\n",
       "    </tr>\n",
       "  </thead>\n",
       "  <tbody>\n",
       "    <tr>\n",
       "      <th>0</th>\n",
       "      <td>2083687</td>\n",
       "      <td>BootyGuy</td>\n",
       "      <td>16765657</td>\n",
       "      <td>2018-08-07T12:25:55Z</td>\n",
       "      <td>657907</td>\n",
       "      <td>Ranjan</td>\n",
       "      <td>Srinivas</td>\n",
       "    </tr>\n",
       "    <tr>\n",
       "      <th>1</th>\n",
       "      <td>3096386</td>\n",
       "      <td>Anything</td>\n",
       "      <td>18227032</td>\n",
       "      <td>2018-08-08T09:23:37Z</td>\n",
       "      <td>657907</td>\n",
       "      <td>Sreevatsan</td>\n",
       "      <td>Murthy</td>\n",
       "    </tr>\n",
       "    <tr>\n",
       "      <th>2</th>\n",
       "      <td>2895680</td>\n",
       "      <td>God Save the Queen</td>\n",
       "      <td>24387457</td>\n",
       "      <td>2018-08-10T08:10:14Z</td>\n",
       "      <td>657907</td>\n",
       "      <td>Kavialagan</td>\n",
       "      <td>Arjunan</td>\n",
       "    </tr>\n",
       "    <tr>\n",
       "      <th>3</th>\n",
       "      <td>4214519</td>\n",
       "      <td>Star Ash</td>\n",
       "      <td>26170484</td>\n",
       "      <td>2018-08-10T13:05:34Z</td>\n",
       "      <td>657907</td>\n",
       "      <td>Jebin</td>\n",
       "      <td>Moses</td>\n",
       "    </tr>\n",
       "  </tbody>\n",
       "</table>\n",
       "</div>"
      ],
      "text/plain": [
       "     entry          entry_name        id           joined_time  league  \\\n",
       "0  2083687            BootyGuy  16765657  2018-08-07T12:25:55Z  657907   \n",
       "1  3096386            Anything  18227032  2018-08-08T09:23:37Z  657907   \n",
       "2  2895680  God Save the Queen  24387457  2018-08-10T08:10:14Z  657907   \n",
       "3  4214519            Star Ash  26170484  2018-08-10T13:05:34Z  657907   \n",
       "\n",
       "  player_first_name player_last_name  \n",
       "0            Ranjan         Srinivas  \n",
       "1        Sreevatsan           Murthy  \n",
       "2        Kavialagan          Arjunan  \n",
       "3             Jebin            Moses  "
      ]
     },
     "execution_count": 22,
     "metadata": {},
     "output_type": "execute_result"
    }
   ],
   "source": [
    "x = pd.DataFrame(data['entries'])\n",
    "x"
   ]
  },
  {
   "cell_type": "markdown",
   "metadata": {},
   "source": [
    "### Events"
   ]
  },
  {
   "cell_type": "code",
   "execution_count": 45,
   "metadata": {
    "collapsed": true
   },
   "outputs": [],
   "source": [
    "data = login('ranjan31051997@gmail.com', 'Ranjan#105', EVENTS)\n",
    "x = pd.DataFrame(data)\n",
    "x.head()"
   ]
  }
 ],
 "metadata": {
  "kernelspec": {
   "display_name": "Python 3",
   "language": "python",
   "name": "python3"
  },
  "language_info": {
   "codemirror_mode": {
    "name": "ipython",
    "version": 3
   },
   "file_extension": ".py",
   "mimetype": "text/x-python",
   "name": "python",
   "nbconvert_exporter": "python",
   "pygments_lexer": "ipython3",
   "version": "3.6.3"
  }
 },
 "nbformat": 4,
 "nbformat_minor": 2
}
